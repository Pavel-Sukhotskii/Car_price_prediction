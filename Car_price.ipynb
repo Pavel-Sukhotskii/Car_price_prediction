{
 "cells": [
  {
   "cell_type": "markdown",
   "metadata": {},
   "source": [
    "# Описание проекта\n",
    "Сервис по продаже автомобилей с пробегом «Не бит, не крашен» разрабатывает приложение для привлечения новых клиентов. В нём можно быстро узнать рыночную стоимость своего автомобиля. В вашем распоряжении исторические данные: технические характеристики, комплектации и цены автомобилей. Вам нужно построить модель для определения стоимости. \n",
    "\n",
    "#### Заказчику важны:\n",
    "\n",
    "- качество предсказания;\n",
    "- скорость предсказания;\n",
    "- время обучения.\n",
    "\n",
    "---\n",
    "\n",
    "## Описание данных\n",
    "\n",
    "#### Признаки\n",
    " * **DateCrawled** — дата скачивания анкеты из базы\n",
    " * **VehicleType** — тип автомобильного кузова\n",
    " * **RegistrationYear** — год регистрации автомобиля\n",
    " * **Gearbox** — тип коробки передач\n",
    " * **Power** — мощность *(л.с.)*\n",
    " * **Model** — модель автомобиля\n",
    " * **Kilometer** — пробег *(км)*\n",
    " * **RegistrationMonth** — месяц регистрации автомобиля\n",
    " * **FuelType** — тип топлива\n",
    " * **Brand** — марка автомобиля\n",
    " * **NotRepaired** — была машина в ремонте или нет\n",
    " * **DateCreated** — дата создания анкеты\n",
    " * **NumberOfPictures** — количество фотографий автомобиля\n",
    " * **PostalCode** — почтовый индекс владельца анкеты *(пользователя)*\n",
    " * **LastSeen** — дата последней активности пользователя\n",
    "\n",
    "#### Целевой признак\n",
    " * **Price** — цена *(евро)*\n",
    "\n",
    "---\n",
    "<a id='К_оглавлению'></a>\n",
    "\n",
    "## Разделим данное исследоване на несколько этапов:\n",
    "\n",
    "[Подготовка и предобработка](#Подготовка_и_предобработка)\n",
    "* Импорт необходимых библиотек.\n",
    "* Предобработка данных.\n",
    "* Разделение таблицы на признаки и целефой признак.\n",
    "* Кодировка данных и разделение на обучающую и валидационную выборки.\n",
    "\n",
    "[Обученине моделей](#Обученине_моделей)\n",
    "* **LightGBMRegressor**\n",
    "* **XGBoostREgressor**\n",
    "* **CatBoostRegressor**\n",
    "* **RandomForestRegressor**\n",
    "\n",
    "[Анализ моделей](#Анализ_моделей)"
   ]
  },
  {
   "cell_type": "markdown",
   "metadata": {},
   "source": [
    "<a id='Подготовка_и_предобработка'></a>\n",
    "# 1. Подготовка данных"
   ]
  },
  {
   "cell_type": "code",
   "execution_count": 1,
   "metadata": {
    "scrolled": false
   },
   "outputs": [
    {
     "data": {
      "text/html": [
       "<div>\n",
       "<style scoped>\n",
       "    .dataframe tbody tr th:only-of-type {\n",
       "        vertical-align: middle;\n",
       "    }\n",
       "\n",
       "    .dataframe tbody tr th {\n",
       "        vertical-align: top;\n",
       "    }\n",
       "\n",
       "    .dataframe thead th {\n",
       "        text-align: right;\n",
       "    }\n",
       "</style>\n",
       "<table border=\"1\" class=\"dataframe\">\n",
       "  <thead>\n",
       "    <tr style=\"text-align: right;\">\n",
       "      <th></th>\n",
       "      <th>DateCrawled</th>\n",
       "      <th>Price</th>\n",
       "      <th>VehicleType</th>\n",
       "      <th>RegistrationYear</th>\n",
       "      <th>Gearbox</th>\n",
       "      <th>Power</th>\n",
       "      <th>Model</th>\n",
       "      <th>Kilometer</th>\n",
       "      <th>RegistrationMonth</th>\n",
       "      <th>FuelType</th>\n",
       "      <th>Brand</th>\n",
       "      <th>NotRepaired</th>\n",
       "      <th>DateCreated</th>\n",
       "      <th>NumberOfPictures</th>\n",
       "      <th>PostalCode</th>\n",
       "      <th>LastSeen</th>\n",
       "    </tr>\n",
       "  </thead>\n",
       "  <tbody>\n",
       "    <tr>\n",
       "      <td>0</td>\n",
       "      <td>2016-03-24 11:52:17</td>\n",
       "      <td>480</td>\n",
       "      <td>NaN</td>\n",
       "      <td>1993</td>\n",
       "      <td>manual</td>\n",
       "      <td>0</td>\n",
       "      <td>golf</td>\n",
       "      <td>150000</td>\n",
       "      <td>0</td>\n",
       "      <td>petrol</td>\n",
       "      <td>volkswagen</td>\n",
       "      <td>NaN</td>\n",
       "      <td>2016-03-24 00:00:00</td>\n",
       "      <td>0</td>\n",
       "      <td>70435</td>\n",
       "      <td>2016-04-07 03:16:57</td>\n",
       "    </tr>\n",
       "    <tr>\n",
       "      <td>1</td>\n",
       "      <td>2016-03-24 10:58:45</td>\n",
       "      <td>18300</td>\n",
       "      <td>coupe</td>\n",
       "      <td>2011</td>\n",
       "      <td>manual</td>\n",
       "      <td>190</td>\n",
       "      <td>NaN</td>\n",
       "      <td>125000</td>\n",
       "      <td>5</td>\n",
       "      <td>gasoline</td>\n",
       "      <td>audi</td>\n",
       "      <td>yes</td>\n",
       "      <td>2016-03-24 00:00:00</td>\n",
       "      <td>0</td>\n",
       "      <td>66954</td>\n",
       "      <td>2016-04-07 01:46:50</td>\n",
       "    </tr>\n",
       "    <tr>\n",
       "      <td>2</td>\n",
       "      <td>2016-03-14 12:52:21</td>\n",
       "      <td>9800</td>\n",
       "      <td>suv</td>\n",
       "      <td>2004</td>\n",
       "      <td>auto</td>\n",
       "      <td>163</td>\n",
       "      <td>grand</td>\n",
       "      <td>125000</td>\n",
       "      <td>8</td>\n",
       "      <td>gasoline</td>\n",
       "      <td>jeep</td>\n",
       "      <td>NaN</td>\n",
       "      <td>2016-03-14 00:00:00</td>\n",
       "      <td>0</td>\n",
       "      <td>90480</td>\n",
       "      <td>2016-04-05 12:47:46</td>\n",
       "    </tr>\n",
       "    <tr>\n",
       "      <td>3</td>\n",
       "      <td>2016-03-17 16:54:04</td>\n",
       "      <td>1500</td>\n",
       "      <td>small</td>\n",
       "      <td>2001</td>\n",
       "      <td>manual</td>\n",
       "      <td>75</td>\n",
       "      <td>golf</td>\n",
       "      <td>150000</td>\n",
       "      <td>6</td>\n",
       "      <td>petrol</td>\n",
       "      <td>volkswagen</td>\n",
       "      <td>no</td>\n",
       "      <td>2016-03-17 00:00:00</td>\n",
       "      <td>0</td>\n",
       "      <td>91074</td>\n",
       "      <td>2016-03-17 17:40:17</td>\n",
       "    </tr>\n",
       "    <tr>\n",
       "      <td>4</td>\n",
       "      <td>2016-03-31 17:25:20</td>\n",
       "      <td>3600</td>\n",
       "      <td>small</td>\n",
       "      <td>2008</td>\n",
       "      <td>manual</td>\n",
       "      <td>69</td>\n",
       "      <td>fabia</td>\n",
       "      <td>90000</td>\n",
       "      <td>7</td>\n",
       "      <td>gasoline</td>\n",
       "      <td>skoda</td>\n",
       "      <td>no</td>\n",
       "      <td>2016-03-31 00:00:00</td>\n",
       "      <td>0</td>\n",
       "      <td>60437</td>\n",
       "      <td>2016-04-06 10:17:21</td>\n",
       "    </tr>\n",
       "  </tbody>\n",
       "</table>\n",
       "</div>"
      ],
      "text/plain": [
       "           DateCrawled  Price VehicleType  RegistrationYear Gearbox  Power  \\\n",
       "0  2016-03-24 11:52:17    480         NaN              1993  manual      0   \n",
       "1  2016-03-24 10:58:45  18300       coupe              2011  manual    190   \n",
       "2  2016-03-14 12:52:21   9800         suv              2004    auto    163   \n",
       "3  2016-03-17 16:54:04   1500       small              2001  manual     75   \n",
       "4  2016-03-31 17:25:20   3600       small              2008  manual     69   \n",
       "\n",
       "   Model  Kilometer  RegistrationMonth  FuelType       Brand NotRepaired  \\\n",
       "0   golf     150000                  0    petrol  volkswagen         NaN   \n",
       "1    NaN     125000                  5  gasoline        audi         yes   \n",
       "2  grand     125000                  8  gasoline        jeep         NaN   \n",
       "3   golf     150000                  6    petrol  volkswagen          no   \n",
       "4  fabia      90000                  7  gasoline       skoda          no   \n",
       "\n",
       "           DateCreated  NumberOfPictures  PostalCode             LastSeen  \n",
       "0  2016-03-24 00:00:00                 0       70435  2016-04-07 03:16:57  \n",
       "1  2016-03-24 00:00:00                 0       66954  2016-04-07 01:46:50  \n",
       "2  2016-03-14 00:00:00                 0       90480  2016-04-05 12:47:46  \n",
       "3  2016-03-17 00:00:00                 0       91074  2016-03-17 17:40:17  \n",
       "4  2016-03-31 00:00:00                 0       60437  2016-04-06 10:17:21  "
      ]
     },
     "execution_count": 1,
     "metadata": {},
     "output_type": "execute_result"
    }
   ],
   "source": [
    "import numpy as np\n",
    "import pandas as pd\n",
    "import lightgbm as lgb\n",
    "from sklearn.model_selection import train_test_split, RandomizedSearchCV\n",
    "from sklearn.preprocessing import StandardScaler\n",
    "from sklearn.metrics import mean_squared_error\n",
    "\n",
    "from lightgbm import LGBMRegressor\n",
    "import xgboost as xgb\n",
    "from catboost import CatBoostRegressor\n",
    "from sklearn.ensemble import RandomForestRegressor\n",
    "\n",
    "import warnings\n",
    "warnings.filterwarnings(\"ignore\")\n",
    "\n",
    "\n",
    "df = pd.read_csv('/datasets/autos.csv')\n",
    "df.head()"
   ]
  },
  {
   "cell_type": "markdown",
   "metadata": {},
   "source": [
    "Приведем названия столбцов к ниднему регистру."
   ]
  },
  {
   "cell_type": "code",
   "execution_count": 2,
   "metadata": {},
   "outputs": [],
   "source": [
    "df.columns = df.columns.str.lower()"
   ]
  },
  {
   "cell_type": "markdown",
   "metadata": {},
   "source": [
    "В таблице присутствуют даты, посмотрим на типы признаков."
   ]
  },
  {
   "cell_type": "code",
   "execution_count": 3,
   "metadata": {
    "scrolled": false
   },
   "outputs": [
    {
     "name": "stdout",
     "output_type": "stream",
     "text": [
      "<class 'pandas.core.frame.DataFrame'>\n",
      "RangeIndex: 354369 entries, 0 to 354368\n",
      "Data columns (total 16 columns):\n",
      "datecrawled          354369 non-null object\n",
      "price                354369 non-null int64\n",
      "vehicletype          316879 non-null object\n",
      "registrationyear     354369 non-null int64\n",
      "gearbox              334536 non-null object\n",
      "power                354369 non-null int64\n",
      "model                334664 non-null object\n",
      "kilometer            354369 non-null int64\n",
      "registrationmonth    354369 non-null int64\n",
      "fueltype             321474 non-null object\n",
      "brand                354369 non-null object\n",
      "notrepaired          283215 non-null object\n",
      "datecreated          354369 non-null object\n",
      "numberofpictures     354369 non-null int64\n",
      "postalcode           354369 non-null int64\n",
      "lastseen             354369 non-null object\n",
      "dtypes: int64(7), object(9)\n",
      "memory usage: 43.3+ MB\n"
     ]
    }
   ],
   "source": [
    "df.info()"
   ]
  },
  {
   "cell_type": "markdown",
   "metadata": {},
   "source": [
    "Даты имеют тип **object**. Приведем их к **datetime**."
   ]
  },
  {
   "cell_type": "code",
   "execution_count": 4,
   "metadata": {
    "scrolled": true
   },
   "outputs": [],
   "source": [
    "for i in ('datecrawled', 'datecreated', 'lastseen', 'postalcode'):\n",
    "    df[i] = pd.to_datetime(df[i], format='%Y-%m-%dT%H:%M:%S')"
   ]
  },
  {
   "cell_type": "markdown",
   "metadata": {},
   "source": [
    "df.info()"
   ]
  },
  {
   "cell_type": "markdown",
   "metadata": {},
   "source": [
    "Проверим *registrationyear* на аномальные значения"
   ]
  },
  {
   "cell_type": "code",
   "execution_count": 5,
   "metadata": {
    "scrolled": false
   },
   "outputs": [
    {
     "data": {
      "text/plain": [
       "array([1000, 1001, 1039, 1111, 1200, 1234, 1253, 1255, 1300, 1400, 1500,\n",
       "       1600, 1602, 1688, 1800, 1910, 1915, 1919, 1920, 1923, 1925, 1927,\n",
       "       1928, 1929, 1930, 1931, 1932, 1933, 1934, 1935, 1936, 1937, 1938,\n",
       "       1940, 1941, 1942, 1943, 1944, 1945, 1946, 1947, 1948, 1949, 1950,\n",
       "       1951, 1952, 1953, 1954, 1955, 1956, 1957, 1958, 1959, 1960, 1961,\n",
       "       1962, 1963, 1964, 1965, 1966, 1967, 1968, 1969, 1970, 1971, 1972,\n",
       "       1973, 1974, 1975, 1976, 1977, 1978, 1979, 1980, 1981, 1982, 1983,\n",
       "       1984, 1985, 1986, 1987, 1988, 1989, 1990, 1991, 1992, 1993, 1994,\n",
       "       1995, 1996, 1997, 1998, 1999, 2000, 2001, 2002, 2003, 2004, 2005,\n",
       "       2006, 2007, 2008, 2009, 2010, 2011, 2012, 2013, 2014, 2015, 2016,\n",
       "       2017, 2018, 2019, 2066, 2200, 2222, 2290, 2500, 2800, 2900, 3000,\n",
       "       3200, 3500, 3700, 3800, 4000, 4100, 4500, 4800, 5000, 5300, 5555,\n",
       "       5600, 5900, 5911, 6000, 6500, 7000, 7100, 7500, 7800, 8000, 8200,\n",
       "       8455, 8500, 8888, 9000, 9229, 9450, 9996, 9999])"
      ]
     },
     "execution_count": 5,
     "metadata": {},
     "output_type": "execute_result"
    }
   ],
   "source": [
    "df['registrationyear'].sort_values().unique()"
   ]
  },
  {
   "cell_type": "markdown",
   "metadata": {},
   "source": [
    "Избавимся от аномалий."
   ]
  },
  {
   "cell_type": "code",
   "execution_count": 6,
   "metadata": {},
   "outputs": [],
   "source": [
    "df = df.loc[(df['registrationyear']>1900) & (df['registrationyear']<2020)]"
   ]
  },
  {
   "cell_type": "code",
   "execution_count": 7,
   "metadata": {},
   "outputs": [
    {
     "data": {
      "text/plain": [
       "count    354198.000000\n",
       "mean       2003.084789\n",
       "std           7.536418\n",
       "min        1910.000000\n",
       "25%        1999.000000\n",
       "50%        2003.000000\n",
       "75%        2008.000000\n",
       "max        2019.000000\n",
       "Name: registrationyear, dtype: float64"
      ]
     },
     "execution_count": 7,
     "metadata": {},
     "output_type": "execute_result"
    }
   ],
   "source": [
    "df['registrationyear'].describe()"
   ]
  },
  {
   "cell_type": "markdown",
   "metadata": {},
   "source": [
    "Так же посмотрим столбцы цены и мощности."
   ]
  },
  {
   "cell_type": "code",
   "execution_count": 8,
   "metadata": {
    "scrolled": true
   },
   "outputs": [
    {
     "data": {
      "text/plain": [
       "count    354198.000000\n",
       "mean       4417.651314\n",
       "std        4514.081022\n",
       "min           0.000000\n",
       "25%        1050.000000\n",
       "50%        2700.000000\n",
       "75%        6400.000000\n",
       "max       20000.000000\n",
       "Name: price, dtype: float64"
      ]
     },
     "execution_count": 8,
     "metadata": {},
     "output_type": "execute_result"
    }
   ],
   "source": [
    "df['price'].describe()"
   ]
  },
  {
   "cell_type": "markdown",
   "metadata": {},
   "source": [
    "Ограничим минимальную цену."
   ]
  },
  {
   "cell_type": "code",
   "execution_count": 9,
   "metadata": {},
   "outputs": [],
   "source": [
    "df = df.loc[df['price'] > 50]"
   ]
  },
  {
   "cell_type": "code",
   "execution_count": 10,
   "metadata": {
    "scrolled": false
   },
   "outputs": [
    {
     "data": {
      "text/plain": [
       "count    341495.000000\n",
       "mean        111.273275\n",
       "std         188.192808\n",
       "min           0.000000\n",
       "25%          69.000000\n",
       "50%         105.000000\n",
       "75%         143.000000\n",
       "max       20000.000000\n",
       "Name: power, dtype: float64"
      ]
     },
     "execution_count": 10,
     "metadata": {},
     "output_type": "execute_result"
    }
   ],
   "source": [
    "df['power'].describe()"
   ]
  },
  {
   "cell_type": "markdown",
   "metadata": {},
   "source": [
    "Ограничим адекватными значениями лошадиных сил."
   ]
  },
  {
   "cell_type": "code",
   "execution_count": 11,
   "metadata": {},
   "outputs": [],
   "source": [
    "df = df.loc[(df['power'] > 30) & (df['power'] < 500)]"
   ]
  },
  {
   "cell_type": "markdown",
   "metadata": {},
   "source": [
    "Теперь проверим на пропущенные значения."
   ]
  },
  {
   "cell_type": "code",
   "execution_count": 12,
   "metadata": {
    "scrolled": true
   },
   "outputs": [
    {
     "data": {
      "text/plain": [
       "datecrawled              0\n",
       "price                    0\n",
       "vehicletype          20991\n",
       "registrationyear         0\n",
       "gearbox               5897\n",
       "power                    0\n",
       "model                12049\n",
       "kilometer                0\n",
       "registrationmonth        0\n",
       "fueltype             19380\n",
       "brand                    0\n",
       "notrepaired          46439\n",
       "datecreated              0\n",
       "numberofpictures         0\n",
       "postalcode               0\n",
       "lastseen                 0\n",
       "dtype: int64"
      ]
     },
     "execution_count": 12,
     "metadata": {},
     "output_type": "execute_result"
    }
   ],
   "source": [
    "df.isna().sum()"
   ]
  },
  {
   "cell_type": "markdown",
   "metadata": {},
   "source": [
    "Все пропущенные значения пнаходятся в столбцах с типом **object** заполним их занчениями *NaN*, что бы избежать ошибок в обучении."
   ]
  },
  {
   "cell_type": "code",
   "execution_count": 13,
   "metadata": {
    "scrolled": false
   },
   "outputs": [],
   "source": [
    "df = df.fillna(\"NaN\")"
   ]
  },
  {
   "cell_type": "code",
   "execution_count": 14,
   "metadata": {
    "scrolled": true
   },
   "outputs": [
    {
     "data": {
      "text/plain": [
       "datecrawled          0\n",
       "price                0\n",
       "vehicletype          0\n",
       "registrationyear     0\n",
       "gearbox              0\n",
       "power                0\n",
       "model                0\n",
       "kilometer            0\n",
       "registrationmonth    0\n",
       "fueltype             0\n",
       "brand                0\n",
       "notrepaired          0\n",
       "datecreated          0\n",
       "numberofpictures     0\n",
       "postalcode           0\n",
       "lastseen             0\n",
       "dtype: int64"
      ]
     },
     "execution_count": 14,
     "metadata": {},
     "output_type": "execute_result"
    }
   ],
   "source": [
    "df.isna().sum()"
   ]
  },
  {
   "cell_type": "markdown",
   "metadata": {},
   "source": [
    "Разделим данные на фичи и таргет, а так же уберем признаки, которые могут уложнить обучение модели."
   ]
  },
  {
   "cell_type": "code",
   "execution_count": 15,
   "metadata": {},
   "outputs": [],
   "source": [
    "features = df.drop(['price', 'datecrawled', 'datecreated', 'lastseen', 'postalcode'], axis=1)\n",
    "target = df['price']"
   ]
  },
  {
   "cell_type": "markdown",
   "metadata": {},
   "source": [
    "Закодируем категориальные данные."
   ]
  },
  {
   "cell_type": "code",
   "execution_count": 16,
   "metadata": {},
   "outputs": [],
   "source": [
    "#gd - get dummies\n",
    "gd_features = pd.get_dummies(features, drop_first=True).copy()"
   ]
  },
  {
   "cell_type": "markdown",
   "metadata": {},
   "source": [
    "Разобьем выборки для `catboost` и других моделей градиентного бустинга."
   ]
  },
  {
   "cell_type": "code",
   "execution_count": 17,
   "metadata": {},
   "outputs": [],
   "source": [
    "# c - coded\n",
    "c_features_train, c_features_valid, c_target_train, c_target_valid = train_test_split(\n",
    "gd_features, target, test_size=0.25, random_state=42)\n",
    "\n",
    "features_train, features_valid, target_train, target_valid = train_test_split(\n",
    "features, target, test_size=0.25, random_state=42)"
   ]
  },
  {
   "cell_type": "markdown",
   "metadata": {},
   "source": [
    "Теперь масштабируем признаки."
   ]
  },
  {
   "cell_type": "code",
   "execution_count": 18,
   "metadata": {
    "scrolled": false
   },
   "outputs": [],
   "source": [
    "numeric = ['registrationyear', 'power', 'kilometer', 'registrationmonth', 'numberofpictures']\n",
    "scaler = StandardScaler()\n",
    "scaler.fit(features_train[numeric])\n",
    "\n",
    "c_features_train[numeric] = scaler.transform(c_features_train[numeric])\n",
    "c_features_valid[numeric] = scaler.transform(c_features_valid[numeric])"
   ]
  },
  {
   "cell_type": "markdown",
   "metadata": {},
   "source": [
    "## Вывод\n",
    "Была проведена предобработка данных. Названия столбцов были приведены к единому формату. Признаки с датами переведены к нужному типу, удалены аномалии в *registrationyear*. Данные разделены на обучающие и валидацонные выборки.\n",
    "\n",
    "[К оглавлению](#К_оглавлению)"
   ]
  },
  {
   "cell_type": "markdown",
   "metadata": {},
   "source": [
    "<a id='Обученине_моделей'></a>\n",
    "\n",
    "# 2. Обучение моделей"
   ]
  },
  {
   "cell_type": "markdown",
   "metadata": {},
   "source": [
    "Для скорочти обучения я буду использовать `RandomizedSearchCV`, так как он работает быстрее `GridSearchCV`, хоть и менне точен.\n",
    "\n",
    "---\n",
    "**LightGBMRegressor**\n",
    "\n",
    "Выберем параметры для модели и бучим ее."
   ]
  },
  {
   "cell_type": "code",
   "execution_count": 19,
   "metadata": {},
   "outputs": [],
   "source": [
    "lgbm_param_dist = {'num_leaves': [10, 30, 60],\n",
    "              'n_estimators': [100, 120],\n",
    "              'max_depth': [10, 25]}"
   ]
  },
  {
   "cell_type": "code",
   "execution_count": 20,
   "metadata": {},
   "outputs": [],
   "source": [
    "lgbmr = LGBMRegressor(state=42)"
   ]
  },
  {
   "cell_type": "code",
   "execution_count": 21,
   "metadata": {},
   "outputs": [],
   "source": [
    "lgbm_random_search = RandomizedSearchCV(estimator = lgbmr, param_distributions=lgbm_param_dist, cv=5, random_state=42)"
   ]
  },
  {
   "cell_type": "code",
   "execution_count": 22,
   "metadata": {
    "scrolled": false
   },
   "outputs": [
    {
     "name": "stdout",
     "output_type": "stream",
     "text": [
      "CPU times: user 10min 7s, sys: 20.9 s, total: 10min 28s\n",
      "Wall time: 10min 35s\n"
     ]
    },
    {
     "data": {
      "text/plain": [
       "RandomizedSearchCV(cv=5, error_score='raise-deprecating',\n",
       "                   estimator=LGBMRegressor(boosting_type='gbdt',\n",
       "                                           class_weight=None,\n",
       "                                           colsample_bytree=1.0,\n",
       "                                           importance_type='split',\n",
       "                                           learning_rate=0.1, max_depth=-1,\n",
       "                                           min_child_samples=20,\n",
       "                                           min_child_weight=0.001,\n",
       "                                           min_split_gain=0.0, n_estimators=100,\n",
       "                                           n_jobs=-1, num_leaves=31,\n",
       "                                           objective=None, random_state=None,\n",
       "                                           reg_alpha=0.0, reg_lambda=0.0,\n",
       "                                           silent=True, state=42, subsample=1.0,\n",
       "                                           subsample_for_bin=200000,\n",
       "                                           subsample_freq=0),\n",
       "                   iid='warn', n_iter=10, n_jobs=None,\n",
       "                   param_distributions={'max_depth': [10, 25],\n",
       "                                        'n_estimators': [100, 120],\n",
       "                                        'num_leaves': [10, 30, 60]},\n",
       "                   pre_dispatch='2*n_jobs', random_state=42, refit=True,\n",
       "                   return_train_score=False, scoring=None, verbose=0)"
      ]
     },
     "execution_count": 22,
     "metadata": {},
     "output_type": "execute_result"
    }
   ],
   "source": [
    "%%time\n",
    "lgbm_random_search.fit(c_features_train, c_target_train)"
   ]
  },
  {
   "cell_type": "code",
   "execution_count": 23,
   "metadata": {},
   "outputs": [
    {
     "data": {
      "text/plain": [
       "({'num_leaves': 60, 'n_estimators': 120, 'max_depth': 25}, 0.8751531639268035)"
      ]
     },
     "execution_count": 23,
     "metadata": {},
     "output_type": "execute_result"
    }
   ],
   "source": [
    "lgbm_random_search.best_params_, lgbm_random_search.best_score_"
   ]
  },
  {
   "cell_type": "code",
   "execution_count": 24,
   "metadata": {},
   "outputs": [
    {
     "name": "stdout",
     "output_type": "stream",
     "text": [
      "CPU times: user 1.89 s, sys: 71.7 ms, total: 1.96 s\n",
      "Wall time: 1.9 s\n"
     ]
    },
    {
     "data": {
      "text/plain": [
       "1615.2310935785579"
      ]
     },
     "execution_count": 24,
     "metadata": {},
     "output_type": "execute_result"
    }
   ],
   "source": [
    "%%time\n",
    "mean_squared_error(c_target_valid, lgbm_random_search.predict(c_features_valid))**0.5"
   ]
  },
  {
   "cell_type": "markdown",
   "metadata": {},
   "source": [
    "**XGBoostREgressor**"
   ]
  },
  {
   "cell_type": "code",
   "execution_count": 25,
   "metadata": {},
   "outputs": [],
   "source": [
    "xgbr_param_dist = {'n_estimators': [20, 40, 60], \n",
    "              'max_depth': [10]}"
   ]
  },
  {
   "cell_type": "code",
   "execution_count": 26,
   "metadata": {},
   "outputs": [],
   "source": [
    "xgbr = xgb.XGBRegressor(objective ='reg:linear', verbosity = 0,state=42)"
   ]
  },
  {
   "cell_type": "code",
   "execution_count": 27,
   "metadata": {},
   "outputs": [],
   "source": [
    "xgbr_random_search = RandomizedSearchCV(estimator = xgbr, param_distributions=xgbr_param_dist, cv=2, random_state=42)"
   ]
  },
  {
   "cell_type": "code",
   "execution_count": 28,
   "metadata": {
    "scrolled": false
   },
   "outputs": [
    {
     "name": "stdout",
     "output_type": "stream",
     "text": [
      "CPU times: user 19min 24s, sys: 10.6 s, total: 19min 34s\n",
      "Wall time: 19min 48s\n"
     ]
    },
    {
     "data": {
      "text/plain": [
       "RandomizedSearchCV(cv=2, error_score='raise-deprecating',\n",
       "                   estimator=XGBRegressor(base_score=0.5, booster='gbtree',\n",
       "                                          colsample_bylevel=1,\n",
       "                                          colsample_bynode=1,\n",
       "                                          colsample_bytree=1, gamma=0,\n",
       "                                          importance_type='gain',\n",
       "                                          learning_rate=0.1, max_delta_step=0,\n",
       "                                          max_depth=3, min_child_weight=1,\n",
       "                                          missing=None, n_estimators=100,\n",
       "                                          n_jobs=1, nthread=None,\n",
       "                                          objective='reg:linear',\n",
       "                                          random_state=0, reg_alpha=0,\n",
       "                                          reg_lambda=1, scale_pos_weight=1,\n",
       "                                          seed=None, silent=None, state=42,\n",
       "                                          subsample=1, verbosity=0),\n",
       "                   iid='warn', n_iter=10, n_jobs=None,\n",
       "                   param_distributions={'max_depth': [10],\n",
       "                                        'n_estimators': [20, 40, 60]},\n",
       "                   pre_dispatch='2*n_jobs', random_state=42, refit=True,\n",
       "                   return_train_score=False, scoring=None, verbose=0)"
      ]
     },
     "execution_count": 28,
     "metadata": {},
     "output_type": "execute_result"
    }
   ],
   "source": [
    "%%time\n",
    "xgbr_random_search.fit(c_features_train, c_target_train)"
   ]
  },
  {
   "cell_type": "code",
   "execution_count": 29,
   "metadata": {},
   "outputs": [
    {
     "data": {
      "text/plain": [
       "({'n_estimators': 60, 'max_depth': 10}, 0.8748540608660615)"
      ]
     },
     "execution_count": 29,
     "metadata": {},
     "output_type": "execute_result"
    }
   ],
   "source": [
    "xgbr_random_search.best_params_, xgbr_random_search.best_score_"
   ]
  },
  {
   "cell_type": "code",
   "execution_count": 30,
   "metadata": {},
   "outputs": [
    {
     "name": "stdout",
     "output_type": "stream",
     "text": [
      "CPU times: user 1.14 s, sys: 247 ms, total: 1.39 s\n",
      "Wall time: 1.42 s\n"
     ]
    },
    {
     "data": {
      "text/plain": [
       "1589.3735055732147"
      ]
     },
     "execution_count": 30,
     "metadata": {},
     "output_type": "execute_result"
    }
   ],
   "source": [
    "%%time\n",
    "mean_squared_error(c_target_valid, xgbr_random_search.predict(c_features_valid))**0.5"
   ]
  },
  {
   "cell_type": "markdown",
   "metadata": {},
   "source": [
    "**CatBoostRegressor**"
   ]
  },
  {
   "cell_type": "code",
   "execution_count": 31,
   "metadata": {},
   "outputs": [],
   "source": [
    "cat_param = {\n",
    "    'learning_rate': np.logspace(-3, 0),\n",
    "    'iterations': [150, 200],\n",
    "    'depth': [5, 10]}"
   ]
  },
  {
   "cell_type": "code",
   "execution_count": 32,
   "metadata": {},
   "outputs": [],
   "source": [
    "cat_features = ['vehicletype', 'gearbox', 'model', 'fueltype', 'brand', 'notrepaired']"
   ]
  },
  {
   "cell_type": "code",
   "execution_count": 33,
   "metadata": {
    "scrolled": true
   },
   "outputs": [],
   "source": [
    "cat_model = CatBoostRegressor(verbose=300,early_stopping_rounds=50, \n",
    "                              random_state=42, loss_function='RMSE', cat_features=cat_features)"
   ]
  },
  {
   "cell_type": "code",
   "execution_count": 34,
   "metadata": {},
   "outputs": [],
   "source": [
    "random_cat_search = RandomizedSearchCV(estimator=cat_model, param_distributions=cat_param,\n",
    "                              random_state=42, cv=2, scoring='neg_mean_squared_error')"
   ]
  },
  {
   "cell_type": "code",
   "execution_count": 35,
   "metadata": {
    "scrolled": false
   },
   "outputs": [
    {
     "name": "stdout",
     "output_type": "stream",
     "text": [
      "0:\tlearn: 3199.9204004\ttotal: 445ms\tremaining: 1m 28s\n",
      "199:\tlearn: 1580.0429098\ttotal: 1m 8s\tremaining: 0us\n",
      "0:\tlearn: 3157.8222155\ttotal: 312ms\tremaining: 1m 2s\n",
      "199:\tlearn: 1579.8215491\ttotal: 1m 8s\tremaining: 0us\n",
      "0:\tlearn: 4568.1006996\ttotal: 194ms\tremaining: 28.8s\n",
      "149:\tlearn: 2691.5599639\ttotal: 25.4s\tremaining: 0us\n",
      "0:\tlearn: 4578.9234741\ttotal: 110ms\tremaining: 16.4s\n",
      "149:\tlearn: 2699.0646269\ttotal: 24.9s\tremaining: 0us\n",
      "0:\tlearn: 4398.9569214\ttotal: 51ms\tremaining: 7.6s\n",
      "149:\tlearn: 1805.8287388\ttotal: 24.8s\tremaining: 0us\n",
      "0:\tlearn: 4402.5746311\ttotal: 109ms\tremaining: 16.3s\n",
      "149:\tlearn: 1804.9409271\ttotal: 25s\tremaining: 0us\n",
      "0:\tlearn: 4581.5322086\ttotal: 800ms\tremaining: 2m 39s\n",
      "199:\tlearn: 3110.5916067\ttotal: 2m 38s\tremaining: 0us\n",
      "0:\tlearn: 4593.1978212\ttotal: 870ms\tremaining: 2m 53s\n",
      "199:\tlearn: 3118.0714038\ttotal: 2m 37s\tremaining: 0us\n",
      "0:\tlearn: 4419.8850641\ttotal: 226ms\tremaining: 33.7s\n",
      "149:\tlearn: 1636.1307087\ttotal: 44.8s\tremaining: 0us\n",
      "0:\tlearn: 4430.3389293\ttotal: 219ms\tremaining: 32.7s\n",
      "149:\tlearn: 1654.1574472\ttotal: 45s\tremaining: 0us\n",
      "0:\tlearn: 4563.9896725\ttotal: 224ms\tremaining: 33.3s\n",
      "149:\tlearn: 2432.0065823\ttotal: 45s\tremaining: 0us\n",
      "0:\tlearn: 4575.5785779\ttotal: 246ms\tremaining: 36.6s\n",
      "149:\tlearn: 2441.4522400\ttotal: 44.9s\tremaining: 0us\n",
      "0:\tlearn: 4549.5249551\ttotal: 291ms\tremaining: 57.9s\n",
      "199:\tlearn: 2072.8636871\ttotal: 1m 7s\tremaining: 0us\n",
      "0:\tlearn: 4559.9783809\ttotal: 249ms\tremaining: 49.6s\n",
      "199:\tlearn: 2065.1431767\ttotal: 1m 7s\tremaining: 0us\n",
      "0:\tlearn: 4536.8882537\ttotal: 719ms\tremaining: 2m 23s\n",
      "199:\tlearn: 1778.2290896\ttotal: 2m 46s\tremaining: 0us\n",
      "0:\tlearn: 4547.9382690\ttotal: 722ms\tremaining: 2m 23s\n",
      "199:\tlearn: 1781.1960013\ttotal: 2m 46s\tremaining: 0us\n",
      "0:\tlearn: 4495.5918262\ttotal: 802ms\tremaining: 2m 39s\n",
      "199:\tlearn: 1669.2413039\ttotal: 2m 48s\tremaining: 0us\n",
      "0:\tlearn: 4506.0693498\ttotal: 811ms\tremaining: 2m 41s\n",
      "199:\tlearn: 1671.0027223\ttotal: 2m 47s\tremaining: 0us\n",
      "0:\tlearn: 3231.7927789\ttotal: 137ms\tremaining: 20.4s\n",
      "149:\tlearn: 1613.5102810\ttotal: 25s\tremaining: 0us\n",
      "0:\tlearn: 3175.3415714\ttotal: 101ms\tremaining: 15.1s\n",
      "149:\tlearn: 1616.7655983\ttotal: 24.8s\tremaining: 0us\n",
      "0:\tlearn: 3208.4874291\ttotal: 705ms\tremaining: 2m 20s\n",
      "199:\tlearn: 1591.2040298\ttotal: 2m 9s\tremaining: 0us\n",
      "CPU times: user 26min 36s, sys: 2min 24s, total: 29min 1s\n",
      "Wall time: 29min 27s\n"
     ]
    },
    {
     "data": {
      "text/plain": [
       "RandomizedSearchCV(cv=2, error_score='raise-deprecating',\n",
       "                   estimator=<catboost.core.CatBoostRegressor object at 0x7fbadbf02550>,\n",
       "                   iid='warn', n_iter=10, n_jobs=None,\n",
       "                   param_distributions={'depth': [5, 10],\n",
       "                                        'iterations': [150, 200],\n",
       "                                        'learning_rate': array([0.001     , 0.0011514 , 0.00132571, 0.00152642, 0.00175751,\n",
       "       0.00202359, 0.00232995, 0.0026827 , 0.00308884, 0.00355648,\n",
       "       0.00409492...\n",
       "       0.03393222, 0.0390694 , 0.04498433, 0.05179475, 0.05963623,\n",
       "       0.06866488, 0.07906043, 0.09102982, 0.10481131, 0.12067926,\n",
       "       0.13894955, 0.15998587, 0.184207  , 0.21209509, 0.24420531,\n",
       "       0.28117687, 0.32374575, 0.37275937, 0.42919343, 0.49417134,\n",
       "       0.5689866 , 0.65512856, 0.75431201, 0.86851137, 1.        ])},\n",
       "                   pre_dispatch='2*n_jobs', random_state=42, refit=True,\n",
       "                   return_train_score=False, scoring='neg_mean_squared_error',\n",
       "                   verbose=0)"
      ]
     },
     "execution_count": 35,
     "metadata": {},
     "output_type": "execute_result"
    }
   ],
   "source": [
    "%%time\n",
    "random_cat_search.fit(features_train, target_train)"
   ]
  },
  {
   "cell_type": "code",
   "execution_count": 36,
   "metadata": {},
   "outputs": [
    {
     "data": {
      "text/plain": [
       "({'learning_rate': 0.5689866029018293, 'iterations': 200, 'depth': 5},\n",
       " -2779852.938249249)"
      ]
     },
     "execution_count": 36,
     "metadata": {},
     "output_type": "execute_result"
    }
   ],
   "source": [
    "random_cat_search.best_params_, random_cat_search.best_score_"
   ]
  },
  {
   "cell_type": "code",
   "execution_count": 37,
   "metadata": {
    "scrolled": true
   },
   "outputs": [
    {
     "name": "stdout",
     "output_type": "stream",
     "text": [
      "CPU times: user 498 ms, sys: 23 ms, total: 521 ms\n",
      "Wall time: 450 ms\n"
     ]
    },
    {
     "data": {
      "text/plain": [
       "1640.0484483955545"
      ]
     },
     "execution_count": 37,
     "metadata": {},
     "output_type": "execute_result"
    }
   ],
   "source": [
    "%%time\n",
    "mean_squared_error(target_valid, random_cat_search.predict(features_valid))**0.5"
   ]
  },
  {
   "cell_type": "markdown",
   "metadata": {},
   "source": [
    "**RandomForestRegressor**"
   ]
  },
  {
   "cell_type": "code",
   "execution_count": 38,
   "metadata": {},
   "outputs": [],
   "source": [
    "sk_param_dist = {'n_estimators': [50, 70],\n",
    "              'max_depth': [5, 15]}"
   ]
  },
  {
   "cell_type": "code",
   "execution_count": 39,
   "metadata": {},
   "outputs": [],
   "source": [
    "sk_model = RandomForestRegressor(random_state=42)"
   ]
  },
  {
   "cell_type": "code",
   "execution_count": 40,
   "metadata": {},
   "outputs": [],
   "source": [
    "sk_random_search = RandomizedSearchCV(estimator = sk_model, param_distributions=sk_param_dist, cv=2, random_state=42)"
   ]
  },
  {
   "cell_type": "code",
   "execution_count": 41,
   "metadata": {},
   "outputs": [
    {
     "name": "stdout",
     "output_type": "stream",
     "text": [
      "CPU times: user 17min 20s, sys: 0 ns, total: 17min 20s\n",
      "Wall time: 17min 29s\n"
     ]
    },
    {
     "data": {
      "text/plain": [
       "RandomizedSearchCV(cv=2, error_score='raise-deprecating',\n",
       "                   estimator=RandomForestRegressor(bootstrap=True,\n",
       "                                                   criterion='mse',\n",
       "                                                   max_depth=None,\n",
       "                                                   max_features='auto',\n",
       "                                                   max_leaf_nodes=None,\n",
       "                                                   min_impurity_decrease=0.0,\n",
       "                                                   min_impurity_split=None,\n",
       "                                                   min_samples_leaf=1,\n",
       "                                                   min_samples_split=2,\n",
       "                                                   min_weight_fraction_leaf=0.0,\n",
       "                                                   n_estimators='warn',\n",
       "                                                   n_jobs=None, oob_score=False,\n",
       "                                                   random_state=42, verbose=0,\n",
       "                                                   warm_start=False),\n",
       "                   iid='warn', n_iter=10, n_jobs=None,\n",
       "                   param_distributions={'max_depth': [5, 15],\n",
       "                                        'n_estimators': [50, 70]},\n",
       "                   pre_dispatch='2*n_jobs', random_state=42, refit=True,\n",
       "                   return_train_score=False, scoring=None, verbose=0)"
      ]
     },
     "execution_count": 41,
     "metadata": {},
     "output_type": "execute_result"
    }
   ],
   "source": [
    "%%time\n",
    "sk_random_search.fit(c_features_train, c_target_train)"
   ]
  },
  {
   "cell_type": "code",
   "execution_count": 42,
   "metadata": {},
   "outputs": [
    {
     "data": {
      "text/plain": [
       "({'n_estimators': 70, 'max_depth': 15}, 0.8612370201496036)"
      ]
     },
     "execution_count": 42,
     "metadata": {},
     "output_type": "execute_result"
    }
   ],
   "source": [
    "sk_random_search.best_params_, sk_random_search.best_score_"
   ]
  },
  {
   "cell_type": "code",
   "execution_count": 43,
   "metadata": {},
   "outputs": [
    {
     "name": "stdout",
     "output_type": "stream",
     "text": [
      "CPU times: user 1.52 s, sys: 0 ns, total: 1.52 s\n",
      "Wall time: 1.53 s\n"
     ]
    },
    {
     "data": {
      "text/plain": [
       "1661.1754171321593"
      ]
     },
     "execution_count": 43,
     "metadata": {},
     "output_type": "execute_result"
    }
   ],
   "source": [
    "%%time\n",
    "mean_squared_error(c_target_valid, sk_random_search.predict(c_features_valid))**0.5"
   ]
  },
  {
   "cell_type": "markdown",
   "metadata": {},
   "source": [
    "[К оглавлению](#К_оглавлению)\n",
    "\n",
    "<a id='Анализ_моделей'></a>\n",
    "# 3. Анализ моделей"
   ]
  },
  {
   "cell_type": "code",
   "execution_count": 47,
   "metadata": {},
   "outputs": [
    {
     "data": {
      "text/html": [
       "<div>\n",
       "<style scoped>\n",
       "    .dataframe tbody tr th:only-of-type {\n",
       "        vertical-align: middle;\n",
       "    }\n",
       "\n",
       "    .dataframe tbody tr th {\n",
       "        vertical-align: top;\n",
       "    }\n",
       "\n",
       "    .dataframe thead th {\n",
       "        text-align: right;\n",
       "    }\n",
       "</style>\n",
       "<table border=\"1\" class=\"dataframe\">\n",
       "  <thead>\n",
       "    <tr style=\"text-align: right;\">\n",
       "      <th></th>\n",
       "      <th>LightGBMRegressor</th>\n",
       "      <th>XGBoostREgressor</th>\n",
       "      <th>CatBoostRegressor</th>\n",
       "      <th>RandomForestRegressor</th>\n",
       "    </tr>\n",
       "  </thead>\n",
       "  <tbody>\n",
       "    <tr>\n",
       "      <td>RMSE</td>\n",
       "      <td>1615.23</td>\n",
       "      <td>1589.37</td>\n",
       "      <td>1640.05</td>\n",
       "      <td>1661.18</td>\n",
       "    </tr>\n",
       "    <tr>\n",
       "      <td>Время обучения</td>\n",
       "      <td>12min 58s</td>\n",
       "      <td>22min 28s</td>\n",
       "      <td>33min 45s</td>\n",
       "      <td>17min 29s</td>\n",
       "    </tr>\n",
       "    <tr>\n",
       "      <td>Скорость предсказания</td>\n",
       "      <td>2.49 s</td>\n",
       "      <td>1.69 s</td>\n",
       "      <td>528 ms</td>\n",
       "      <td>1.53 s</td>\n",
       "    </tr>\n",
       "  </tbody>\n",
       "</table>\n",
       "</div>"
      ],
      "text/plain": [
       "                      LightGBMRegressor XGBoostREgressor  CatBoostRegressor  \\\n",
       "RMSE                            1615.23          1589.37            1640.05   \n",
       "Время обучения                12min 58s        22min 28s          33min 45s   \n",
       "Скорость предсказания            2.49 s           1.69 s             528 ms   \n",
       "\n",
       "                      RandomForestRegressor  \n",
       "RMSE                                1661.18  \n",
       "Время обучения                    17min 29s  \n",
       "Скорость предсказания                1.53 s  "
      ]
     },
     "execution_count": 47,
     "metadata": {},
     "output_type": "execute_result"
    }
   ],
   "source": [
    "pd.DataFrame({'LightGBMRegressor':[mean_squared_error(c_target_valid, lgbm_random_search.predict(c_features_valid))**0.5,\n",
    "                                   '12min 58s', '2.49 s'], \n",
    "              'XGBoostREgressor':[mean_squared_error(c_target_valid, xgbr_random_search.predict(c_features_valid))**0.5,\n",
    "                                  '22min 28s', '1.69 s'], \n",
    "              ' CatBoostRegressor':[mean_squared_error(target_valid, random_cat_search.predict(features_valid))**0.5, \n",
    "                                 '33min 45s', '528 ms'],\n",
    "              'RandomForestRegressor':[mean_squared_error(c_target_valid, sk_random_search.predict(c_features_valid))**0.5,\n",
    "                                     '17min 29s', '1.53 s' ]}, index=['RMSE', 'Время обучения', 'Скорость предсказания' ])"
   ]
  },
  {
   "cell_type": "markdown",
   "metadata": {},
   "source": [
    "Наименьшую ошибку показала модель **XGBoostREgressor**, но если брать в расчет затраченное на обучение время, **LightGBMRegressor** показал результат лучше. Наибольшая скорость предсказания у **CatBoostRegressor**. Скорее всего в данном случае лучше всего будет использовать **XGBoostREgressor**, так как его время обучения и скорость предсказания между значениями **LightGBMRegressor** и **CatBoostRegressor**, а ошибка наименьшая. В качестве альтернативы можно выбрать **RandomForestRegressor**. Эта модель обучается быстрее чем **XGBoostREgressor**, но в то же время имеет ошибку больше.\n",
    "\n",
    "[К оглавлению](#К_оглавлению)"
   ]
  }
 ],
 "metadata": {
  "kernelspec": {
   "display_name": "Python 3",
   "language": "python",
   "name": "python3"
  },
  "language_info": {
   "codemirror_mode": {
    "name": "ipython",
    "version": 3
   },
   "file_extension": ".py",
   "mimetype": "text/x-python",
   "name": "python",
   "nbconvert_exporter": "python",
   "pygments_lexer": "ipython3",
   "version": "3.8.5"
  },
  "toc": {
   "base_numbering": 1,
   "nav_menu": {
    "height": "109px",
    "width": "193px"
   },
   "number_sections": true,
   "sideBar": true,
   "skip_h1_title": false,
   "title_cell": "Table of Contents",
   "title_sidebar": "Contents",
   "toc_cell": false,
   "toc_position": {},
   "toc_section_display": true,
   "toc_window_display": false
  }
 },
 "nbformat": 4,
 "nbformat_minor": 2
}
